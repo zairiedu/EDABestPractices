{
    "cells": [
        {
            "cell_type": "code",
            "execution_count": 3,
            "source": [
                "from jupyterworkflow.data import get_fremont_data\r\n",
                "import pandas as pd"
            ],
            "outputs": [],
            "metadata": {}
        },
        {
            "cell_type": "code",
            "execution_count": 2,
            "source": [
                "def test_fremont_data():\r\n",
                "    data = get_fremont_data()\r\n",
                "    assert all(data.columns == ['Total', 'East', 'West'])\r\n",
                "    assert isinstance(data.index, pd.DatetimeIndex)"
            ],
            "outputs": [],
            "metadata": {}
        },
        {
            "cell_type": "code",
            "execution_count": 5,
            "source": [],
            "outputs": [],
            "metadata": {}
        },
        {
            "cell_type": "code",
            "execution_count": null,
            "source": [],
            "outputs": [],
            "metadata": {}
        }
    ],
    "metadata": {
        "orig_nbformat": 4,
        "language_info": {
            "name": "python",
            "version": "3.7.10",
            "mimetype": "text/x-python",
            "codemirror_mode": {
                "name": "ipython",
                "version": 3
            },
            "pygments_lexer": "ipython3",
            "nbconvert_exporter": "python",
            "file_extension": ".py"
        },
        "kernelspec": {
            "name": "python3",
            "display_name": "Python 3.7.10 64-bit ('edabp': conda)"
        },
        "interpreter": {
            "hash": "c9c98238f36c50c9ce5fa14ecbb700b560060a60dd4773972cb2da36dda0d934"
        }
    },
    "nbformat": 4,
    "nbformat_minor": 2
}